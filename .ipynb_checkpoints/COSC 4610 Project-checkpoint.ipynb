{
 "cells": [
  {
   "cell_type": "code",
   "execution_count": 1,
   "metadata": {},
   "outputs": [],
   "source": [
    "# import numpy\n",
    "import numpy as np\n",
    "import pandas as pd\n",
    "import matplotlib as mpl\n",
    "import matplotlib.pyplot as plt\n",
    "import seaborn as sns\n",
    "import scipy as scipy\n",
    "from sklearn.metrics import accuracy_score\n",
    "from sklearn import tree\n",
    "from sklearn.model_selection import train_test_split\n",
    "from sklearn.naive_bayes import GaussianNB\n",
    "%matplotlib inline"
   ]
  },
  {
   "cell_type": "code",
   "execution_count": 2,
   "metadata": {},
   "outputs": [
    {
     "name": "stderr",
     "output_type": "stream",
     "text": [
      "/anaconda3/lib/python3.7/site-packages/pandas/core/frame.py:6211: FutureWarning: Sorting because non-concatenation axis is not aligned. A future version\n",
      "of pandas will change to not sort by default.\n",
      "\n",
      "To accept the future behavior, pass 'sort=False'.\n",
      "\n",
      "To retain the current behavior and silence the warning, pass 'sort=True'.\n",
      "\n",
      "  sort=sort)\n"
     ]
    },
    {
     "data": {
      "text/html": [
       "<div>\n",
       "<style scoped>\n",
       "    .dataframe tbody tr th:only-of-type {\n",
       "        vertical-align: middle;\n",
       "    }\n",
       "\n",
       "    .dataframe tbody tr th {\n",
       "        vertical-align: top;\n",
       "    }\n",
       "\n",
       "    .dataframe thead th {\n",
       "        text-align: right;\n",
       "    }\n",
       "</style>\n",
       "<table border=\"1\" class=\"dataframe\">\n",
       "  <thead>\n",
       "    <tr style=\"text-align: right;\">\n",
       "      <th></th>\n",
       "      <th>Unnamed: 0</th>\n",
       "      <th>country</th>\n",
       "      <th>description</th>\n",
       "      <th>designation</th>\n",
       "      <th>points</th>\n",
       "      <th>price</th>\n",
       "      <th>province</th>\n",
       "      <th>region_1</th>\n",
       "      <th>region_2</th>\n",
       "      <th>taster_name</th>\n",
       "      <th>taster_twitter_handle</th>\n",
       "      <th>title</th>\n",
       "      <th>variety</th>\n",
       "      <th>winery</th>\n",
       "    </tr>\n",
       "  </thead>\n",
       "  <tbody>\n",
       "    <tr>\n",
       "      <th>0</th>\n",
       "      <td>0</td>\n",
       "      <td>US</td>\n",
       "      <td>This tremendous 100% varietal wine hails from ...</td>\n",
       "      <td>Martha's Vineyard</td>\n",
       "      <td>96</td>\n",
       "      <td>235.0</td>\n",
       "      <td>California</td>\n",
       "      <td>Napa Valley</td>\n",
       "      <td>Napa</td>\n",
       "      <td>NaN</td>\n",
       "      <td>NaN</td>\n",
       "      <td>NaN</td>\n",
       "      <td>Cabernet Sauvignon</td>\n",
       "      <td>Heitz</td>\n",
       "    </tr>\n",
       "    <tr>\n",
       "      <th>1</th>\n",
       "      <td>1</td>\n",
       "      <td>Spain</td>\n",
       "      <td>Ripe aromas of fig, blackberry and cassis are ...</td>\n",
       "      <td>Carodorum Selección Especial Reserva</td>\n",
       "      <td>96</td>\n",
       "      <td>110.0</td>\n",
       "      <td>Northern Spain</td>\n",
       "      <td>Toro</td>\n",
       "      <td>NaN</td>\n",
       "      <td>NaN</td>\n",
       "      <td>NaN</td>\n",
       "      <td>NaN</td>\n",
       "      <td>Tinta de Toro</td>\n",
       "      <td>Bodega Carmen Rodríguez</td>\n",
       "    </tr>\n",
       "    <tr>\n",
       "      <th>2</th>\n",
       "      <td>2</td>\n",
       "      <td>US</td>\n",
       "      <td>Mac Watson honors the memory of a wine once ma...</td>\n",
       "      <td>Special Selected Late Harvest</td>\n",
       "      <td>96</td>\n",
       "      <td>90.0</td>\n",
       "      <td>California</td>\n",
       "      <td>Knights Valley</td>\n",
       "      <td>Sonoma</td>\n",
       "      <td>NaN</td>\n",
       "      <td>NaN</td>\n",
       "      <td>NaN</td>\n",
       "      <td>Sauvignon Blanc</td>\n",
       "      <td>Macauley</td>\n",
       "    </tr>\n",
       "    <tr>\n",
       "      <th>3</th>\n",
       "      <td>3</td>\n",
       "      <td>US</td>\n",
       "      <td>This spent 20 months in 30% new French oak, an...</td>\n",
       "      <td>Reserve</td>\n",
       "      <td>96</td>\n",
       "      <td>65.0</td>\n",
       "      <td>Oregon</td>\n",
       "      <td>Willamette Valley</td>\n",
       "      <td>Willamette Valley</td>\n",
       "      <td>NaN</td>\n",
       "      <td>NaN</td>\n",
       "      <td>NaN</td>\n",
       "      <td>Pinot Noir</td>\n",
       "      <td>Ponzi</td>\n",
       "    </tr>\n",
       "    <tr>\n",
       "      <th>4</th>\n",
       "      <td>4</td>\n",
       "      <td>France</td>\n",
       "      <td>This is the top wine from La Bégude, named aft...</td>\n",
       "      <td>La Brûlade</td>\n",
       "      <td>95</td>\n",
       "      <td>66.0</td>\n",
       "      <td>Provence</td>\n",
       "      <td>Bandol</td>\n",
       "      <td>NaN</td>\n",
       "      <td>NaN</td>\n",
       "      <td>NaN</td>\n",
       "      <td>NaN</td>\n",
       "      <td>Provence red blend</td>\n",
       "      <td>Domaine de la Bégude</td>\n",
       "    </tr>\n",
       "  </tbody>\n",
       "</table>\n",
       "</div>"
      ],
      "text/plain": [
       "   Unnamed: 0 country                                        description  \\\n",
       "0           0      US  This tremendous 100% varietal wine hails from ...   \n",
       "1           1   Spain  Ripe aromas of fig, blackberry and cassis are ...   \n",
       "2           2      US  Mac Watson honors the memory of a wine once ma...   \n",
       "3           3      US  This spent 20 months in 30% new French oak, an...   \n",
       "4           4  France  This is the top wine from La Bégude, named aft...   \n",
       "\n",
       "                            designation  points  price        province  \\\n",
       "0                     Martha's Vineyard      96  235.0      California   \n",
       "1  Carodorum Selección Especial Reserva      96  110.0  Northern Spain   \n",
       "2         Special Selected Late Harvest      96   90.0      California   \n",
       "3                               Reserve      96   65.0          Oregon   \n",
       "4                            La Brûlade      95   66.0        Provence   \n",
       "\n",
       "            region_1           region_2 taster_name taster_twitter_handle  \\\n",
       "0        Napa Valley               Napa         NaN                   NaN   \n",
       "1               Toro                NaN         NaN                   NaN   \n",
       "2     Knights Valley             Sonoma         NaN                   NaN   \n",
       "3  Willamette Valley  Willamette Valley         NaN                   NaN   \n",
       "4             Bandol                NaN         NaN                   NaN   \n",
       "\n",
       "  title             variety                   winery  \n",
       "0   NaN  Cabernet Sauvignon                    Heitz  \n",
       "1   NaN       Tinta de Toro  Bodega Carmen Rodríguez  \n",
       "2   NaN     Sauvignon Blanc                 Macauley  \n",
       "3   NaN          Pinot Noir                    Ponzi  \n",
       "4   NaN  Provence red blend     Domaine de la Bégude  "
      ]
     },
     "execution_count": 2,
     "metadata": {},
     "output_type": "execute_result"
    }
   ],
   "source": [
    "wine_data = pd.read_csv('winemag-data_first150k.csv', sep = ',', encoding = 'utf-8', header = 0 )\n",
    "wine_data2 = pd.read_csv('winemag-data-130k-v2.csv')\n",
    "df = wine_data.append(wine_data2, ignore_index = True)\n",
    "df.head()"
   ]
  },
  {
   "cell_type": "code",
   "execution_count": 3,
   "metadata": {},
   "outputs": [
    {
     "name": "stdout",
     "output_type": "stream",
     "text": [
      "False    280833\n",
      "True         68\n",
      "Name: country, dtype: int64\n",
      "\n",
      "False    280901\n",
      "Name: country, dtype: int64\n"
     ]
    }
   ],
   "source": [
    "df['country'].value_counts()\n",
    "print(df['country'].isnull().value_counts())\n",
    "df['country'].fillna(value = \"unknown\", inplace = True)\n",
    "print()\n",
    "print(df['country'].isnull().value_counts())"
   ]
  },
  {
   "cell_type": "code",
   "execution_count": 4,
   "metadata": {},
   "outputs": [
    {
     "name": "stdout",
     "output_type": "stream",
     "text": [
      "Roger Voss            25514\n",
      "Michael Schachner     15134\n",
      "Kerin O’Keefe         10776\n",
      "Virginie Boone         9537\n",
      "Paul Gregutt           9532\n",
      "Matt Kettmann          6332\n",
      "Joe Czerwinski         5147\n",
      "Sean P. Sullivan       4966\n",
      "Anna Lee C. Iijima     4415\n",
      "Jim Gordon             4177\n",
      "Anne Krebiehl MW       3685\n",
      "Lauren Buzzeo          1835\n",
      "Susan Kostrzewa        1085\n",
      "Mike DeSimone           514\n",
      "Jeff Jenssen            491\n",
      "Alexander Peartree      415\n",
      "Carrie Dykes            139\n",
      "Fiona Adams              27\n",
      "Christina Pickard         6\n",
      "Name: taster_name, dtype: int64\n",
      "\n",
      "True     177174\n",
      "False    103727\n",
      "Name: taster_name, dtype: int64\n",
      "False    280901\n",
      "Name: taster_name, dtype: int64\n"
     ]
    },
    {
     "data": {
      "text/plain": [
       "anonymous             177174\n",
       "Roger Voss             25514\n",
       "Michael Schachner      15134\n",
       "Kerin O’Keefe          10776\n",
       "Virginie Boone          9537\n",
       "Paul Gregutt            9532\n",
       "Matt Kettmann           6332\n",
       "Joe Czerwinski          5147\n",
       "Sean P. Sullivan        4966\n",
       "Anna Lee C. Iijima      4415\n",
       "Jim Gordon              4177\n",
       "Anne Krebiehl MW        3685\n",
       "Lauren Buzzeo           1835\n",
       "Susan Kostrzewa         1085\n",
       "Mike DeSimone            514\n",
       "Jeff Jenssen             491\n",
       "Alexander Peartree       415\n",
       "Carrie Dykes             139\n",
       "Fiona Adams               27\n",
       "Christina Pickard          6\n",
       "Name: taster_name, dtype: int64"
      ]
     },
     "execution_count": 4,
     "metadata": {},
     "output_type": "execute_result"
    }
   ],
   "source": [
    "print(df['taster_name'].value_counts())\n",
    "print()\n",
    "print(df['taster_name'].isnull().value_counts())\n",
    "df['taster_name'].fillna(value = \"anonymous\", inplace = True)\n",
    "print(df['taster_name'].isnull().value_counts())\n",
    "df['taster_name'].value_counts()"
   ]
  },
  {
   "cell_type": "code",
   "execution_count": 5,
   "metadata": {},
   "outputs": [
    {
     "name": "stdout",
     "output_type": "stream",
     "text": [
      "@vossroger          25514\n",
      "@wineschach         15134\n",
      "@kerinokeefe        10776\n",
      "@vboone              9537\n",
      "@paulgwine           9532\n",
      "@mattkettmann        6332\n",
      "@JoeCz               5147\n",
      "@wawinereport        4966\n",
      "@gordone_cellars     4177\n",
      "@AnneInVino          3685\n",
      "@laurbuzz            1835\n",
      "@suskostrzewa        1085\n",
      "@worldwineguys       1005\n",
      "@bkfiona               27\n",
      "@winewchristina         6\n",
      "Name: taster_twitter_handle, dtype: int64\n",
      "\n",
      "True     182143\n",
      "False     98758\n",
      "Name: taster_twitter_handle, dtype: int64\n",
      "anonymous           182143\n",
      "@vossroger           25514\n",
      "@wineschach          15134\n",
      "@kerinokeefe         10776\n",
      "@vboone               9537\n",
      "@paulgwine            9532\n",
      "@mattkettmann         6332\n",
      "@JoeCz                5147\n",
      "@wawinereport         4966\n",
      "@gordone_cellars      4177\n",
      "@AnneInVino           3685\n",
      "@laurbuzz             1835\n",
      "@suskostrzewa         1085\n",
      "@worldwineguys        1005\n",
      "@bkfiona                27\n",
      "@winewchristina          6\n",
      "Name: taster_twitter_handle, dtype: int64\n"
     ]
    }
   ],
   "source": [
    "print(df['taster_twitter_handle'].value_counts())\n",
    "print()\n",
    "print(df['taster_twitter_handle'].isnull().value_counts())\n",
    "df['taster_twitter_handle'].fillna(value = \"anonymous\", inplace = True)\n",
    "print(df['taster_twitter_handle'].value_counts())"
   ]
  },
  {
   "cell_type": "code",
   "execution_count": 6,
   "metadata": {},
   "outputs": [
    {
     "data": {
      "text/plain": [
       "True     150930\n",
       "False    129971\n",
       "Name: title, dtype: int64"
      ]
     },
     "execution_count": 6,
     "metadata": {},
     "output_type": "execute_result"
    }
   ],
   "source": [
    "df['title'].isnull().value_counts()"
   ]
  },
  {
   "cell_type": "code",
   "execution_count": 7,
   "metadata": {},
   "outputs": [
    {
     "data": {
      "text/plain": [
       "False    280901\n",
       "Name: variety, dtype: int64"
      ]
     },
     "execution_count": 7,
     "metadata": {},
     "output_type": "execute_result"
    }
   ],
   "source": [
    "df['variety'].isnull().value_counts()\n",
    "df['variety'].fillna(value = \"unknown\", inplace = True)\n",
    "df['variety'].isnull().value_counts()"
   ]
  },
  {
   "cell_type": "code",
   "execution_count": 8,
   "metadata": {},
   "outputs": [
    {
     "data": {
      "text/plain": [
       "False    280901\n",
       "Name: region_1, dtype: int64"
      ]
     },
     "execution_count": 8,
     "metadata": {},
     "output_type": "execute_result"
    }
   ],
   "source": [
    "df['region_1'].isnull().value_counts()\n",
    "df['region_1'].fillna(value = \"unknown\", inplace = True)\n",
    "df['region_1'].isnull().value_counts()"
   ]
  },
  {
   "cell_type": "code",
   "execution_count": 9,
   "metadata": {},
   "outputs": [
    {
     "data": {
      "text/plain": [
       "False    280901\n",
       "Name: region_2, dtype: int64"
      ]
     },
     "execution_count": 9,
     "metadata": {},
     "output_type": "execute_result"
    }
   ],
   "source": [
    "df['region_2'].isnull().value_counts()\n",
    "df['region_2'].fillna(value = \"unknown\", inplace = True)\n",
    "df['region_2'].isnull().value_counts()"
   ]
  },
  {
   "cell_type": "code",
   "execution_count": 10,
   "metadata": {},
   "outputs": [
    {
     "data": {
      "text/plain": [
       "False    280901\n",
       "Name: points, dtype: int64"
      ]
     },
     "execution_count": 10,
     "metadata": {},
     "output_type": "execute_result"
    }
   ],
   "source": [
    "df['points'].isnull().value_counts()"
   ]
  },
  {
   "cell_type": "code",
   "execution_count": 11,
   "metadata": {},
   "outputs": [
    {
     "name": "stdout",
     "output_type": "stream",
     "text": [
      "34\n"
     ]
    },
    {
     "data": {
      "text/plain": [
       "34.0      24844\n",
       "20.0      14800\n",
       "15.0      13122\n",
       "25.0      11760\n",
       "18.0      10871\n",
       "30.0      10400\n",
       "12.0       8884\n",
       "10.0       8694\n",
       "13.0       8028\n",
       "35.0       7995\n",
       "40.0       7890\n",
       "16.0       7820\n",
       "14.0       7094\n",
       "22.0       7080\n",
       "50.0       6749\n",
       "17.0       6566\n",
       "45.0       6378\n",
       "28.0       6294\n",
       "24.0       6269\n",
       "19.0       6104\n",
       "11.0       5172\n",
       "60.0       4456\n",
       "32.0       4160\n",
       "55.0       3766\n",
       "9.0        3689\n",
       "38.0       3508\n",
       "23.0       3500\n",
       "26.0       3472\n",
       "65.0       3055\n",
       "75.0       2913\n",
       "          ...  \n",
       "480.0         1\n",
       "617.0         1\n",
       "560.0         1\n",
       "207.0         1\n",
       "750.0         1\n",
       "3300.0        1\n",
       "301.0         1\n",
       "672.0         1\n",
       "322.0         1\n",
       "599.0         1\n",
       "306.0         1\n",
       "544.0         1\n",
       "790.0         1\n",
       "294.0         1\n",
       "973.0         1\n",
       "209.0         1\n",
       "932.0         1\n",
       "470.0         1\n",
       "2300.0        1\n",
       "575.0         1\n",
       "234.0         1\n",
       "569.0         1\n",
       "178.0         1\n",
       "675.0         1\n",
       "630.0         1\n",
       "388.0         1\n",
       "1125.0        1\n",
       "276.0         1\n",
       "820.0         1\n",
       "318.0         1\n",
       "Name: price, Length: 415, dtype: int64"
      ]
     },
     "execution_count": 11,
     "metadata": {},
     "output_type": "execute_result"
    }
   ],
   "source": [
    "df['price'].isnull().value_counts()\n",
    "prices = df['price']\n",
    "mean = round(np.mean(prices))\n",
    "print(mean)\n",
    "df['price'].fillna(value = mean, inplace = True)\n",
    "df['price'].value_counts()"
   ]
  },
  {
   "cell_type": "code",
   "execution_count": 12,
   "metadata": {},
   "outputs": [
    {
     "data": {
      "text/plain": [
       "False    280901\n",
       "Name: province, dtype: int64"
      ]
     },
     "execution_count": 12,
     "metadata": {},
     "output_type": "execute_result"
    }
   ],
   "source": [
    "df['province'].isnull().value_counts()\n",
    "df['province'].value_counts()\n",
    "df['province'].fillna(value = \"unknown\", inplace = True)\n",
    "df['province'].isnull().value_counts()"
   ]
  },
  {
   "cell_type": "code",
   "execution_count": 13,
   "metadata": {},
   "outputs": [
    {
     "data": {
      "text/plain": [
       "False    280901\n",
       "Name: description, dtype: int64"
      ]
     },
     "execution_count": 13,
     "metadata": {},
     "output_type": "execute_result"
    }
   ],
   "source": [
    "df['description'].isnull().value_counts()"
   ]
  },
  {
   "cell_type": "code",
   "execution_count": 14,
   "metadata": {},
   "outputs": [
    {
     "name": "stdout",
     "output_type": "stream",
     "text": [
      "False    197701\n",
      "True      83200\n",
      "Name: designation, dtype: int64\n",
      "False    280901\n",
      "Name: designation, dtype: int64\n"
     ]
    }
   ],
   "source": [
    "print(df['designation'].isnull().value_counts())\n",
    "df['designation'].fillna(value = \"unknown\", inplace = True)\n",
    "print(df['designation'].isnull().value_counts())"
   ]
  },
  {
   "cell_type": "code",
   "execution_count": 15,
   "metadata": {},
   "outputs": [
    {
     "name": "stdout",
     "output_type": "stream",
     "text": [
      "False    280901\n",
      "Name: winery, dtype: int64\n"
     ]
    }
   ],
   "source": [
    "print(df['winery'].isnull().value_counts())"
   ]
  }
 ],
 "metadata": {
  "kernelspec": {
   "display_name": "Python 3",
   "language": "python",
   "name": "python3"
  },
  "language_info": {
   "codemirror_mode": {
    "name": "ipython",
    "version": 3
   },
   "file_extension": ".py",
   "mimetype": "text/x-python",
   "name": "python",
   "nbconvert_exporter": "python",
   "pygments_lexer": "ipython3",
   "version": "3.6.5"
  }
 },
 "nbformat": 4,
 "nbformat_minor": 2
}
