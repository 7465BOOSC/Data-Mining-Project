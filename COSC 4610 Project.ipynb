{
 "cells": [
  {
   "cell_type": "code",
   "execution_count": null,
   "metadata": {},
   "outputs": [],
   "source": [
    "# import numpy\n",
    "import numpy as np\n",
    "import pandas as pd\n",
    "import matplotlib as mpl\n",
    "import matplotlib.pyplot as plt\n",
    "import seaborn as sns\n",
    "import scipy as scipy\n",
    "from sklearn.metrics import accuracy_score\n",
    "from sklearn import tree\n",
    "from sklearn.model_selection import train_test_split\n",
    "from sklearn.naive_bayes import GaussianNB\n",
    "%matplotlib inline"
   ]
  },
  {
   "cell_type": "code",
   "execution_count": null,
   "metadata": {},
   "outputs": [],
   "source": [
    "wine_data = pd.read_csv('winemag-data_first150k.csv', sep = ',', encoding = 'utf-8', header = 0 )\n",
    "wine_data2 = pd.read_csv('winemag-data-130k-v2.csv')\n",
    "df = wine_data.append(wine_data2, ignore_index = True)\n",
    "df.head()"
   ]
  },
  {
   "cell_type": "code",
   "execution_count": null,
   "metadata": {},
   "outputs": [],
   "source": [
    "df['country'].value_counts()\n",
    "print(df['country'].isnull().value_counts())\n",
    "df['country'].fillna(value = \"unknown\", inplace = True)\n",
    "print()\n",
    "print(df['country'].isnull().value_counts())"
   ]
  },
  {
   "cell_type": "code",
   "execution_count": null,
   "metadata": {},
   "outputs": [],
   "source": [
    "print(df['taster_name'].value_counts())\n",
    "print()\n",
    "print(df['taster_name'].isnull().value_counts())\n",
    "df['taster_name'].fillna(value = \"anonymous\", inplace = True)\n",
    "print(df['taster_name'].isnull().value_counts())\n",
    "df['taster_name'].value_counts()"
   ]
  },
  {
   "cell_type": "code",
   "execution_count": null,
   "metadata": {},
   "outputs": [],
   "source": [
    "print(df['taster_twitter_handle'].value_counts())\n",
    "print()\n",
    "print(df['taster_twitter_handle'].isnull().value_counts())\n",
    "df['taster_twitter_handle'].fillna(value = \"anonymous\", inplace = True)\n",
    "print(df['taster_twitter_handle'].value_counts())"
   ]
  },
  {
   "cell_type": "code",
   "execution_count": null,
   "metadata": {},
   "outputs": [],
   "source": [
    "df['title'].isnull().value_counts()"
   ]
  },
  {
   "cell_type": "code",
   "execution_count": null,
   "metadata": {},
   "outputs": [],
   "source": [
    "df['variety'].isnull().value_counts()\n",
    "df['variety'].fillna(value = \"unknown\", inplace = True)\n",
    "df['variety'].isnull().value_counts()"
   ]
  },
  {
   "cell_type": "code",
   "execution_count": null,
   "metadata": {},
   "outputs": [],
   "source": [
    "df['region_1'].isnull().value_counts()\n",
    "df['region_1'].fillna(value = \"unknown\", inplace = True)\n",
    "df['region_1'].isnull().value_counts()"
   ]
  },
  {
   "cell_type": "code",
   "execution_count": null,
   "metadata": {},
   "outputs": [],
   "source": [
    "df['region_2'].isnull().value_counts()\n",
    "df['region_2'].fillna(value = \"unknown\", inplace = True)\n",
    "df['region_2'].isnull().value_counts()"
   ]
  },
  {
   "cell_type": "code",
   "execution_count": null,
   "metadata": {},
   "outputs": [],
   "source": [
    "df['points'].isnull().value_counts()"
   ]
  },
  {
   "cell_type": "code",
   "execution_count": null,
   "metadata": {},
   "outputs": [],
   "source": [
    "df['price'].isnull().value_counts()\n",
    "prices = df['price']\n",
    "mean = round(np.mean(prices))\n",
    "print(mean)\n",
    "df['price'].fillna(value = mean, inplace = True)\n",
    "df['price'].value_counts()"
   ]
  },
  {
   "cell_type": "code",
   "execution_count": null,
   "metadata": {},
   "outputs": [],
   "source": [
    "df['province'].isnull().value_counts()\n",
    "df['province'].value_counts()\n",
    "df['province'].fillna(value = \"unknown\", inplace = True)\n",
    "df['province'].isnull().value_counts()"
   ]
  },
  {
   "cell_type": "code",
   "execution_count": null,
   "metadata": {},
   "outputs": [],
   "source": [
    "df['description'].isnull().value_counts()"
   ]
  },
  {
   "cell_type": "code",
   "execution_count": null,
   "metadata": {},
   "outputs": [],
   "source": [
    "print(df['designation'].isnull().value_counts())\n",
    "df['designation'].fillna(value = \"unknown\", inplace = True)\n",
    "print(df['designation'].isnull().value_counts())"
   ]
  },
  {
   "cell_type": "code",
   "execution_count": null,
   "metadata": {},
   "outputs": [],
   "source": [
    "print(df['winery'].isnull().value_counts())"
   ]
  }
 ],
 "metadata": {
  "kernelspec": {
   "display_name": "Python 3",
   "language": "python",
   "name": "python3"
  },
  "language_info": {
   "codemirror_mode": {
    "name": "ipython",
    "version": 3
   },
   "file_extension": ".py",
   "mimetype": "text/x-python",
   "name": "python",
   "nbconvert_exporter": "python",
   "pygments_lexer": "ipython3",
   "version": "3.6.5"
  }
 },
 "nbformat": 4,
 "nbformat_minor": 2
}
